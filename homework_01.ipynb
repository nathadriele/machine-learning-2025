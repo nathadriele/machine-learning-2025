{
 "cells": [
  {
   "cell_type": "markdown",
   "id": "b12e3d1a-75ea-4677-a3ab-8f41784d3dfe",
   "metadata": {},
   "source": [
    "## Homework"
   ]
  },
  {
   "cell_type": "markdown",
   "id": "56bdd23b-aed7-494d-acaa-15994bd63d29",
   "metadata": {},
   "source": [
    "### Q1. Pandas version\n",
    "### Q2. Records count\n",
    "### Q3. Fuel types\n",
    "### Q4. Missing values\n",
    "### Q5. Max fuel efficiency\n",
    "### Q6. Median value of horsepower\n",
    "### Q7. Sum of weights"
   ]
  },
  {
   "cell_type": "code",
   "execution_count": 1,
   "id": "5310b3e4-a619-4fb4-bcae-4009343464c2",
   "metadata": {},
   "outputs": [],
   "source": [
    "import pandas as pd"
   ]
  },
  {
   "cell_type": "code",
   "execution_count": 2,
   "id": "ac56513b-7781-47a6-b2c7-42efd584b96a",
   "metadata": {},
   "outputs": [
    {
     "data": {
      "text/plain": [
       "'2.3.1'"
      ]
     },
     "execution_count": 2,
     "metadata": {},
     "output_type": "execute_result"
    }
   ],
   "source": [
    "pd.__version__"
   ]
  },
  {
   "cell_type": "code",
   "execution_count": 5,
   "id": "612601a3-784c-4e0d-ae50-f0b15ea6451d",
   "metadata": {},
   "outputs": [
    {
     "name": "stdout",
     "output_type": "stream",
     "text": [
      "Records count: 9704\n"
     ]
    }
   ],
   "source": [
    "car_fuel_efficiency_df = pd.read_csv(\"./01-intro/car_fuel_efficiency.csv\")\n",
    "print(f\"Records count: {len(car_fuel_efficiency_df)}\")"
   ]
  },
  {
   "cell_type": "code",
   "execution_count": 6,
   "id": "4929d1ec-9cef-48c9-85b2-9692ae03587e",
   "metadata": {},
   "outputs": [
    {
     "name": "stdout",
     "output_type": "stream",
     "text": [
      "Fuel types count: 2\n"
     ]
    }
   ],
   "source": [
    "print(f\"Fuel types count: {car_fuel_efficiency_df.fuel_type.nunique()}\")"
   ]
  },
  {
   "cell_type": "code",
   "execution_count": 7,
   "id": "0679b4b3-6a35-4e08-8afe-c037759ea208",
   "metadata": {},
   "outputs": [
    {
     "name": "stdout",
     "output_type": "stream",
     "text": [
      "num_cylinders    482\n",
      "horsepower       708\n",
      "acceleration     930\n",
      "num_doors        502\n",
      "dtype: int64\n",
      "Columns with missing values count: 4\n"
     ]
    }
   ],
   "source": [
    "missing_sum = car_fuel_efficiency_df.isnull().sum()\n",
    "print(missing_sum[missing_sum > 0])\n",
    "print(f\"Columns with missing values count: {len(missing_sum[missing_sum > 0])}\")"
   ]
  },
  {
   "cell_type": "code",
   "execution_count": 8,
   "id": "90e85b45-97ce-4c97-b06f-a72b9bff5a1a",
   "metadata": {},
   "outputs": [
    {
     "name": "stdout",
     "output_type": "stream",
     "text": [
      "Maximun fuel efficiency of cars from Asia: 23.759\n"
     ]
    }
   ],
   "source": [
    "asia_max_fuel_efficiency = car_fuel_efficiency_df[car_fuel_efficiency_df.origin == 'Asia'].fuel_efficiency_mpg.max()\n",
    "print(f\"Maximun fuel efficiency of cars from Asia: {asia_max_fuel_efficiency:.3f}\")"
   ]
  },
  {
   "cell_type": "code",
   "execution_count": 9,
   "id": "bb28403c-2cdb-493d-843e-91a61ec46a9a",
   "metadata": {},
   "outputs": [
    {
     "name": "stdout",
     "output_type": "stream",
     "text": [
      "Median horsepower: 149.0\n",
      "Most frecuent horse power: 152.0\n",
      "Median horsepower again: 152.0\n"
     ]
    }
   ],
   "source": [
    "# 1. \n",
    "median_horsepower = car_fuel_efficiency_df.horsepower.median()\n",
    "print(f\"Median horsepower: {median_horsepower}\")\n",
    "\n",
    "# 2.\n",
    "mode_horsepower = car_fuel_efficiency_df.horsepower.mode()[0]\n",
    "print(f\"Most frecuent horse power: {mode_horsepower}\")\n",
    "\n",
    "#3. \n",
    "car_fuel_efficiency_df.horsepower = car_fuel_efficiency_df.horsepower.fillna(mode_horsepower)\n",
    "\n",
    "#4.\n",
    "median_horsepower = car_fuel_efficiency_df.horsepower.median()\n",
    "print(f\"Median horsepower again: {median_horsepower}\")"
   ]
  },
  {
   "cell_type": "code",
   "execution_count": 10,
   "id": "77f95096-a937-4531-a577-c6814901eb75",
   "metadata": {},
   "outputs": [
    {
     "name": "stdout",
     "output_type": "stream",
     "text": [
      "Sum of all elements in the result: 0.519\n"
     ]
    }
   ],
   "source": [
    "# 1. \n",
    "asia_cars = car_fuel_efficiency_df[car_fuel_efficiency_df.origin == \"Asia\"]\n",
    "\n",
    "# 2.\n",
    "asia_cars = asia_cars[['vehicle_weight', 'model_year']]\n",
    "\n",
    "# 3. \n",
    "asia_cars = asia_cars.head(7)\n",
    "\n",
    "# 4. \n",
    "X = asia_cars.values\n",
    "\n",
    "# 5. \n",
    "XTX = X.T.dot(X)\n",
    "\n",
    "# 6.\n",
    "import numpy as np\n",
    "XTXi = np.linalg.inv(XTX)\n",
    "\n",
    "# 7.\n",
    "y = np.array([1100, 1300, 800, 900, 1000, 1100, 1200])\n",
    "\n",
    "# 8.\n",
    "w = XTXi.dot(X.T).dot(y)\n",
    "\n",
    "# 9.\n",
    "print(f\"Sum of all elements in the result: {w.sum().round(3)}\")"
   ]
  }
 ],
 "metadata": {
  "kernelspec": {
   "display_name": "Python 3 (ipykernel)",
   "language": "python",
   "name": "python3"
  },
  "language_info": {
   "codemirror_mode": {
    "name": "ipython",
    "version": 3
   },
   "file_extension": ".py",
   "mimetype": "text/x-python",
   "name": "python",
   "nbconvert_exporter": "python",
   "pygments_lexer": "ipython3",
   "version": "3.12.1"
  }
 },
 "nbformat": 4,
 "nbformat_minor": 5
}
